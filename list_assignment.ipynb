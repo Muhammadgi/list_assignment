{
 "cells": [
  {
   "cell_type": "code",
   "execution_count": 1,
   "id": "88acb90e",
   "metadata": {},
   "outputs": [],
   "source": [
    "a=[]"
   ]
  },
  {
   "cell_type": "code",
   "execution_count": 2,
   "id": "8c023839",
   "metadata": {},
   "outputs": [],
   "source": [
    "a.append(\"huzaifa khan\")"
   ]
  },
  {
   "cell_type": "code",
   "execution_count": 3,
   "id": "55bc5c02",
   "metadata": {},
   "outputs": [
    {
     "name": "stdout",
     "output_type": "stream",
     "text": [
      "['huzaifa khan']\n"
     ]
    }
   ],
   "source": [
    "print(a)"
   ]
  },
  {
   "cell_type": "code",
   "execution_count": 4,
   "id": "ee5c0368",
   "metadata": {},
   "outputs": [],
   "source": [
    "a.append(5+2j)"
   ]
  },
  {
   "cell_type": "code",
   "execution_count": 5,
   "id": "9ce9f4dc",
   "metadata": {},
   "outputs": [
    {
     "name": "stdout",
     "output_type": "stream",
     "text": [
      "['huzaifa khan', (5+2j)]\n"
     ]
    }
   ],
   "source": [
    "print(a)"
   ]
  },
  {
   "cell_type": "code",
   "execution_count": 7,
   "id": "317dce52",
   "metadata": {},
   "outputs": [
    {
     "data": {
      "text/plain": [
       "complex"
      ]
     },
     "execution_count": 7,
     "metadata": {},
     "output_type": "execute_result"
    }
   ],
   "source": [
    "type(a[1])"
   ]
  },
  {
   "cell_type": "code",
   "execution_count": 8,
   "id": "eb7a2c8f",
   "metadata": {},
   "outputs": [],
   "source": [
    "a.append(\"haris khan\")"
   ]
  },
  {
   "cell_type": "code",
   "execution_count": 10,
   "id": "620d05f0",
   "metadata": {},
   "outputs": [
    {
     "name": "stdout",
     "output_type": "stream",
     "text": [
      "['huzaifa khan', (5+2j), 'haris khan']\n"
     ]
    }
   ],
   "source": [
    "print(a)"
   ]
  },
  {
   "cell_type": "code",
   "execution_count": 11,
   "id": "1a7f68f5",
   "metadata": {},
   "outputs": [
    {
     "name": "stdout",
     "output_type": "stream",
     "text": [
      "haris khan\n"
     ]
    }
   ],
   "source": [
    "print(a[2])"
   ]
  },
  {
   "cell_type": "code",
   "execution_count": 12,
   "id": "4ef32deb",
   "metadata": {},
   "outputs": [
    {
     "name": "stdout",
     "output_type": "stream",
     "text": [
      "['haris khan', (5+2j), 'huzaifa khan']\n"
     ]
    }
   ],
   "source": [
    "print(a[::-1])"
   ]
  },
  {
   "cell_type": "code",
   "execution_count": 14,
   "id": "2291510a",
   "metadata": {},
   "outputs": [
    {
     "name": "stdout",
     "output_type": "stream",
     "text": [
      "captain maverick\n"
     ]
    }
   ],
   "source": [
    "movies=[\"simmba\",\"captain maverick\",\"kal ho na ho\"]\n",
    "print(movies[1])"
   ]
  },
  {
   "cell_type": "code",
   "execution_count": 15,
   "id": "eda158e4",
   "metadata": {},
   "outputs": [
    {
     "name": "stdout",
     "output_type": "stream",
     "text": [
      "['dog', 'lion', 'markhor', 'snake', 'crow', 'donkey']\n"
     ]
    }
   ],
   "source": [
    "animals=['dog','lion','markhor','snake','crow']\n",
    "animals.append(\"donkey\")\n",
    "print(animals)"
   ]
  },
  {
   "cell_type": "code",
   "execution_count": null,
   "id": "89e4d372",
   "metadata": {},
   "outputs": [],
   "source": []
  }
 ],
 "metadata": {
  "kernelspec": {
   "display_name": "Python 3 (ipykernel)",
   "language": "python",
   "name": "python3"
  },
  "language_info": {
   "codemirror_mode": {
    "name": "ipython",
    "version": 3
   },
   "file_extension": ".py",
   "mimetype": "text/x-python",
   "name": "python",
   "nbconvert_exporter": "python",
   "pygments_lexer": "ipython3",
   "version": "3.9.13"
  }
 },
 "nbformat": 4,
 "nbformat_minor": 5
}
